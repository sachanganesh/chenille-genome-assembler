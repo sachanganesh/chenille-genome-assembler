{
 "cells": [
  {
   "cell_type": "code",
   "execution_count": 1,
   "metadata": {
    "collapsed": true
   },
   "outputs": [],
   "source": [
    "import argparse\n",
    "import copy\n",
    "from random import randint\n",
    "from Bio import Seq, SeqIO, SeqRecord\n",
    "from difflib import SequenceMatcher\n",
    "from graphviz import Digraph\n",
    "\n",
    "\n",
    "def get_reads(seq, read_len, num_reads, k):\n",
    "    reads = []\n",
    "\n",
    "    for _ in range(num_reads):\n",
    "        read = fragment_read(seq, read_len)\n",
    "        if len(read) > k:\n",
    "            reads.append(read)\n",
    "\n",
    "    return reads\n",
    "\n",
    "\n",
    "def fragment_read(seq, frag_len):\n",
    "    ind = randint(-frag_len / 2, len(seq) - 1)\n",
    "    if (ind < 0):\n",
    "        frag_len = frag_len + ind\n",
    "        ind = 0\n",
    "\n",
    "    if ind + frag_len >= len(seq):\n",
    "        return seq[ind:]\n",
    "    else:\n",
    "        return seq[ind : ind + frag_len]\n",
    "\n",
    "\n",
    "def get_coverage(seq_len, reads, num_reads):\n",
    "    avg_read_len = 0\n",
    "\n",
    "    for read in reads:\n",
    "        avg_read_len += len(read)\n",
    "        avg_read_len /= len(reads)\n",
    "\n",
    "    return num_reads * (avg_read_len / seq_len)\n",
    "\n",
    "\n",
    "def get_kmers(k, reads, read_len):\n",
    "    kmer_set = set()\n",
    "\n",
    "    for read in reads:\n",
    "        if k > read_len:\n",
    "            print(\"k for kmer is greater than read length\")\n",
    "            exit(1)\n",
    "        elif k <= len(read):\n",
    "            for i in range(len(read) - k + 1):\n",
    "                kmer_set.add(read[i : i + k])\n",
    "\n",
    "    return kmer_set\n",
    "\n",
    "\n",
    "def find_next_kmers(kmer, kmer_set):\n",
    "    followers = []\n",
    "\n",
    "    for other in kmer_set:\n",
    "        if kmer != other and kmer[1:] == other[:-1]:\n",
    "            followers.append(other)\n",
    "\n",
    "    return followers"
   ]
  },
  {
   "cell_type": "code",
   "execution_count": 2,
   "metadata": {
    "collapsed": true
   },
   "outputs": [],
   "source": [
    "import networkx as nx\n",
    "\n",
    "def build_debruijn(kmer_set):\n",
    "    graph = nx.Graph()\n",
    "    reverse_graph = nx.Graph()\n",
    "\n",
    "    for kmer in kmer_set:\n",
    "        followers = find_next_kmers(kmer, kmer_set)\n",
    "        graph.add_edges_from([(kmer, f) for f in set(followers)])\n",
    "\n",
    "        for follower in followers:\n",
    "            if follower in reverse_graph:\n",
    "                reverse_graph.add_edge(follower, kmer)\n",
    "            else:\n",
    "                reverse_graph.add_node(follower)\n",
    "                reverse_graph.add_edge(follower, kmer)\n",
    "\n",
    "    for key in graph:\n",
    "        if key not in reverse_graph:\n",
    "            reverse_graph.add_node(key)\n",
    "\n",
    "    return graph, reverse_graph"
   ]
  },
  {
   "cell_type": "code",
   "execution_count": 4,
   "metadata": {},
   "outputs": [
    {
     "ename": "NameError",
     "evalue": "name 'args' is not defined",
     "output_type": "error",
     "traceback": [
      "\u001b[0;31m---------------------------------------------------------------------------\u001b[0m",
      "\u001b[0;31mNameError\u001b[0m                                 Traceback (most recent call last)",
      "\u001b[0;32m<ipython-input-4-9aea46d051b0>\u001b[0m in \u001b[0;36m<module>\u001b[0;34m()\u001b[0m\n\u001b[1;32m      6\u001b[0m \u001b[0mreads\u001b[0m \u001b[0;34m=\u001b[0m \u001b[0mget_reads\u001b[0m\u001b[0;34m(\u001b[0m\u001b[0msample\u001b[0m\u001b[0;34m,\u001b[0m \u001b[0;36m10\u001b[0m\u001b[0;34m,\u001b[0m \u001b[0;36m32\u001b[0m\u001b[0;34m,\u001b[0m \u001b[0;36m4\u001b[0m\u001b[0;34m)\u001b[0m\u001b[0;34m\u001b[0m\u001b[0m\n\u001b[1;32m      7\u001b[0m \u001b[0;34m\u001b[0m\u001b[0m\n\u001b[0;32m----> 8\u001b[0;31m \u001b[0mcoverage\u001b[0m \u001b[0;34m=\u001b[0m \u001b[0mget_coverage\u001b[0m\u001b[0;34m(\u001b[0m\u001b[0mlen\u001b[0m\u001b[0;34m(\u001b[0m\u001b[0msample\u001b[0m\u001b[0;34m)\u001b[0m\u001b[0;34m,\u001b[0m \u001b[0mreads\u001b[0m\u001b[0;34m,\u001b[0m \u001b[0margs\u001b[0m\u001b[0;34m.\u001b[0m\u001b[0mnum_reads\u001b[0m\u001b[0;34m)\u001b[0m\u001b[0;34m\u001b[0m\u001b[0m\n\u001b[0m\u001b[1;32m      9\u001b[0m \u001b[0;34m\u001b[0m\u001b[0m\n\u001b[1;32m     10\u001b[0m \u001b[0mkmers\u001b[0m \u001b[0;34m=\u001b[0m \u001b[0msorted\u001b[0m\u001b[0;34m(\u001b[0m\u001b[0mget_kmers\u001b[0m\u001b[0;34m(\u001b[0m\u001b[0margs\u001b[0m\u001b[0;34m.\u001b[0m\u001b[0mk\u001b[0m\u001b[0;34m,\u001b[0m \u001b[0mreads\u001b[0m\u001b[0;34m,\u001b[0m \u001b[0margs\u001b[0m\u001b[0;34m.\u001b[0m\u001b[0mread_len\u001b[0m\u001b[0;34m)\u001b[0m\u001b[0;34m)\u001b[0m\u001b[0;34m\u001b[0m\u001b[0m\n",
      "\u001b[0;31mNameError\u001b[0m: name 'args' is not defined"
     ]
    }
   ],
   "source": [
    "from matplotlib import pyplot as plt\n",
    "%matplotlib inline\n",
    "\n",
    "sample = \"ATGGAAGTCGCGGAATC\"\n",
    "\n",
    "args = 4\n",
    "num_reads = 32\n",
    "\n",
    "reads = get_reads(sample, 10, num_reads, args)\n",
    "\n",
    "coverage = get_coverage(len(sample), reads, num_reads)\n",
    "\n",
    "kmers = sorted(get_kmers(args.k, reads, args.read_len))\n",
    "\n",
    "debruijn, rev_debruijn = build_debruijn(kmers)\n",
    "\n",
    "nx.draw_networkx(debruijn)\n",
    "plt.show()"
   ]
  }
 ],
 "metadata": {
  "kernelspec": {
   "display_name": "Python 3",
   "language": "python",
   "name": "python3"
  },
  "language_info": {
   "codemirror_mode": {
    "name": "ipython",
    "version": 3
   },
   "file_extension": ".py",
   "mimetype": "text/x-python",
   "name": "python",
   "nbconvert_exporter": "python",
   "pygments_lexer": "ipython3",
   "version": "3.5.3"
  }
 },
 "nbformat": 4,
 "nbformat_minor": 2
}
