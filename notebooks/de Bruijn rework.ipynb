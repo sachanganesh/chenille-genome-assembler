{
 "cells": [
  {
   "cell_type": "code",
   "execution_count": 1,
   "metadata": {
    "collapsed": true
   },
   "outputs": [],
   "source": [
    "import argparse\n",
    "import copy\n",
    "from random import randint\n",
    "from Bio import Seq, SeqIO, SeqRecord\n",
    "from difflib import SequenceMatcher\n",
    "from graphviz import Digraph\n",
    "\n",
    "\n",
    "def get_reads(seq, read_len, num_reads, k):\n",
    "    reads = []\n",
    "\n",
    "    for _ in range(num_reads):\n",
    "        read = fragment_read(seq, read_len)\n",
    "        if len(read) > k:\n",
    "            reads.append(read)\n",
    "\n",
    "    return reads\n",
    "\n",
    "\n",
    "def fragment_read(seq, frag_len):\n",
    "    ind = randint(-frag_len / 2, len(seq) - 1)\n",
    "    if (ind < 0):\n",
    "        frag_len = frag_len + ind\n",
    "        ind = 0\n",
    "\n",
    "    if ind + frag_len >= len(seq):\n",
    "        return seq[ind:]\n",
    "    else:\n",
    "        return seq[ind : ind + frag_len]\n",
    "\n",
    "\n",
    "def get_coverage(seq_len, reads, num_reads):\n",
    "    avg_read_len = 0\n",
    "\n",
    "    for read in reads:\n",
    "        avg_read_len += len(read)\n",
    "        avg_read_len /= len(reads)\n",
    "\n",
    "    return num_reads * (avg_read_len / seq_len)\n",
    "\n",
    "\n",
    "def get_kmers(k, reads, read_len):\n",
    "    kmer_set = set()\n",
    "\n",
    "    for read in reads:\n",
    "        if k > read_len:\n",
    "            print(\"k for kmer is greater than read length\")\n",
    "            exit(1)\n",
    "        elif k <= len(read):\n",
    "            for i in range(len(read) - k + 1):\n",
    "                kmer_set.add(read[i : i + k])\n",
    "\n",
    "    return kmer_set\n",
    "\n",
    "\n",
    "def find_next_kmers(kmer, kmer_set):\n",
    "    followers = []\n",
    "\n",
    "    for other in kmer_set:\n",
    "        if kmer != other and kmer[1:] == other[:-1]:\n",
    "            followers.append(other)\n",
    "\n",
    "    return followers"
   ]
  },
  {
   "cell_type": "code",
   "execution_count": 2,
   "metadata": {
    "collapsed": true
   },
   "outputs": [],
   "source": [
    "import networkx as nx\n",
    "\n",
    "def build_debruijn(kmer_set):\n",
    "    graph = nx.Graph()\n",
    "    reverse_graph = nx.Graph()\n",
    "\n",
    "    for kmer in kmer_set:\n",
    "        followers = find_next_kmers(kmer, kmer_set)\n",
    "        graph.add_edges_from([(kmer, f) for f in set(followers)])\n",
    "\n",
    "        for follower in followers:\n",
    "            if follower in reverse_graph:\n",
    "                reverse_graph.add_edge(follower, kmer)\n",
    "            else:\n",
    "                reverse_graph.add_node(follower)\n",
    "                reverse_graph.add_edge(follower, kmer)\n",
    "\n",
    "    for key in graph:\n",
    "        if key not in reverse_graph:\n",
    "            reverse_graph.add_node(key)\n",
    "\n",
    "    return graph, reverse_graph"
   ]
  },
  {
   "cell_type": "code",
   "execution_count": 81,
   "metadata": {
    "scrolled": true
   },
   "outputs": [
    {
     "name": "stdout",
     "output_type": "stream",
     "text": [
      "6 words\n"
     ]
    },
    {
     "data": {
      "image/png": "[encoded data removed]",
      "text/plain": [
       "<matplotlib.figure.Figure at 0x7ff045e1f198>"
      ]
     },
     "metadata": {},
     "output_type": "display_data"
    }
   ],
   "source": [
    "from matplotlib import pyplot as plt\n",
    "%matplotlib inline\n",
    "\n",
    "sample = \"ATGGAAGTCGCGGAATC\"\n",
    "bsample = \"ATGCCTCGA\"\n",
    "\n",
    "k = 4\n",
    "num_reads = 500\n",
    "read_len = 10\n",
    "\n",
    "reads = get_reads(bsample, read_len, num_reads, k)\n",
    "\n",
    "coverage = get_coverage(len(sample), reads, num_reads)\n",
    "\n",
    "kmers = np.asarray(sorted(get_kmers(k, reads, read_len)))\n",
    "print(len(kmers), \"words\")\n",
    "\n",
    "debruijn, rev_debruijn = build_debruijn(kmers)\n",
    "\n",
    "nx.draw_networkx(debruijn)\n",
    "plt.show()"
   ]
  },
  {
   "cell_type": "code",
   "execution_count": 82,
   "metadata": {},
   "outputs": [
    {
     "data": {
      "text/plain": [
       "16"
      ]
     },
     "execution_count": 82,
     "metadata": {},
     "output_type": "execute_result"
    }
   ],
   "source": [
    "kmers.itemsize"
   ]
  },
  {
   "cell_type": "code",
   "execution_count": 83,
   "metadata": {},
   "outputs": [
    {
     "data": {
      "text/plain": [
       "(6, 16)"
      ]
     },
     "execution_count": 83,
     "metadata": {},
     "output_type": "execute_result"
    }
   ],
   "source": [
    "from scipy.spatial.distance import pdist, squareform\n",
    "from scipy import sparse\n",
    "import numpy as np\n",
    "\n",
    "word_bytes = np.ndarray((kmers.size, kmers.itemsize),\n",
    "                        dtype=\"int8\",\n",
    "                        buffer=kmers.data)\n",
    "word_bytes.shape"
   ]
  },
  {
   "cell_type": "code",
   "execution_count": 84,
   "metadata": {},
   "outputs": [
    {
     "data": {
      "text/plain": [
       "(6, 6)"
      ]
     },
     "execution_count": 84,
     "metadata": {},
     "output_type": "execute_result"
    }
   ],
   "source": [
    "hamming_dist = pdist(word_bytes, metric=\"hamming\")\n",
    "graph = sparse.csr_matrix(squareform(hamming_dist < 1.01 / kmers.itemsize))\n",
    "\n",
    "graph.shape"
   ]
  },
  {
   "cell_type": "code",
   "execution_count": 85,
   "metadata": {},
   "outputs": [
    {
     "data": {
      "text/plain": [
       "array(['ATGC', 'CCTC', 'CTCG', 'GCCT', 'TCGA', 'TGCC'],\n",
       "      dtype='<U4')"
      ]
     },
     "execution_count": 85,
     "metadata": {},
     "output_type": "execute_result"
    }
   ],
   "source": [
    "kmers"
   ]
  },
  {
   "cell_type": "code",
   "execution_count": 86,
   "metadata": {},
   "outputs": [
    {
     "data": {
      "text/plain": [
       "array([[65,  0,  0,  0, 84,  0,  0,  0, 71,  0,  0,  0, 67,  0,  0,  0],\n",
       "       [67,  0,  0,  0, 67,  0,  0,  0, 84,  0,  0,  0, 67,  0,  0,  0],\n",
       "       [67,  0,  0,  0, 84,  0,  0,  0, 67,  0,  0,  0, 71,  0,  0,  0],\n",
       "       [71,  0,  0,  0, 67,  0,  0,  0, 67,  0,  0,  0, 84,  0,  0,  0],\n",
       "       [84,  0,  0,  0, 67,  0,  0,  0, 71,  0,  0,  0, 65,  0,  0,  0],\n",
       "       [84,  0,  0,  0, 71,  0,  0,  0, 67,  0,  0,  0, 67,  0,  0,  0]], dtype=int8)"
      ]
     },
     "execution_count": 86,
     "metadata": {},
     "output_type": "execute_result"
    }
   ],
   "source": [
    "word_bytes"
   ]
  },
  {
   "cell_type": "code",
   "execution_count": 87,
   "metadata": {},
   "outputs": [
    {
     "data": {
      "text/plain": [
       "array([ 0.1875,  0.1875,  0.25  ,  0.1875,  0.1875,  0.1875,  0.1875,\n",
       "        0.1875,  0.1875,  0.1875,  0.25  ,  0.1875,  0.1875,  0.1875,\n",
       "        0.1875])"
      ]
     },
     "execution_count": 87,
     "metadata": {},
     "output_type": "execute_result"
    }
   ],
   "source": [
    "hamming_dist"
   ]
  },
  {
   "cell_type": "code",
   "execution_count": 88,
   "metadata": {},
   "outputs": [
    {
     "data": {
      "text/plain": [
       "array([[False, False, False, False, False, False],\n",
       "       [False, False, False, False, False, False],\n",
       "       [False, False, False, False, False, False],\n",
       "       [False, False, False, False, False, False],\n",
       "       [False, False, False, False, False, False],\n",
       "       [False, False, False, False, False, False]], dtype=bool)"
      ]
     },
     "execution_count": 88,
     "metadata": {},
     "output_type": "execute_result"
    }
   ],
   "source": [
    "squareform(hamming_dist < 1.01 / kmers.itemsize)"
   ]
  },
  {
   "cell_type": "code",
   "execution_count": 63,
   "metadata": {},
   "outputs": [
    {
     "name": "stdout",
     "output_type": "stream",
     "text": [
      "2 ATGGAAG\n",
      "8 GTCGCGG\n"
     ]
    },
    {
     "ename": "OverflowError",
     "evalue": "cannot convert float infinity to integer",
     "output_type": "error",
     "traceback": [
      "\u001b[0;31m---------------------------------------------------------------------------\u001b[0m",
      "\u001b[0;31mOverflowError\u001b[0m                             Traceback (most recent call last)",
      "\u001b[0;32m<ipython-input-63-3336ef9a3079>\u001b[0m in \u001b[0;36m<module>\u001b[0;34m()\u001b[0m\n\u001b[1;32m      6\u001b[0m \u001b[0;34m\u001b[0m\u001b[0m\n\u001b[1;32m      7\u001b[0m \u001b[0mdistances\u001b[0m\u001b[0;34m,\u001b[0m \u001b[0mpredecessors\u001b[0m \u001b[0;34m=\u001b[0m \u001b[0msparse\u001b[0m\u001b[0;34m.\u001b[0m\u001b[0mcsgraph\u001b[0m\u001b[0;34m.\u001b[0m\u001b[0mshortest_path\u001b[0m\u001b[0;34m(\u001b[0m\u001b[0mgraph\u001b[0m\u001b[0;34m,\u001b[0m \u001b[0mreturn_predecessors\u001b[0m\u001b[0;34m=\u001b[0m\u001b[0;32mTrue\u001b[0m\u001b[0;34m)\u001b[0m\u001b[0;34m\u001b[0m\u001b[0m\n\u001b[0;32m----> 8\u001b[0;31m \u001b[0;34m\"distance from '%s' to '%s': %i steps\"\u001b[0m \u001b[0;34m%\u001b[0m \u001b[0;34m(\u001b[0m\u001b[0mkmers\u001b[0m\u001b[0;34m[\u001b[0m\u001b[0mi1\u001b[0m\u001b[0;34m]\u001b[0m\u001b[0;34m,\u001b[0m \u001b[0mkmers\u001b[0m\u001b[0;34m[\u001b[0m\u001b[0mi2\u001b[0m\u001b[0;34m]\u001b[0m\u001b[0;34m,\u001b[0m \u001b[0mdistances\u001b[0m\u001b[0;34m[\u001b[0m\u001b[0mi1\u001b[0m\u001b[0;34m,\u001b[0m \u001b[0mi2\u001b[0m\u001b[0;34m]\u001b[0m\u001b[0;34m)\u001b[0m\u001b[0;34m\u001b[0m\u001b[0m\n\u001b[0m",
      "\u001b[0;31mOverflowError\u001b[0m: cannot convert float infinity to integer"
     ]
    }
   ],
   "source": [
    "i1 = kmers.searchsorted(\"ATGGAAG\")\n",
    "print(i1, kmers[i1])\n",
    "\n",
    "i2 = kmers.searchsorted(\"GTCGCGG\")\n",
    "print(i2, kmers[i2])\n",
    "\n",
    "distances, predecessors = sparse.csgraph.shortest_path(graph, return_predecessors=True)\n",
    "\"distance from '%s' to '%s': %i steps\" % (kmers[i1], kmers[i2], distances[i1, i2])"
   ]
  },
  {
   "cell_type": "code",
   "execution_count": null,
   "metadata": {
    "collapsed": true
   },
   "outputs": [],
   "source": []
  },
  {
   "cell_type": "code",
   "execution_count": 48,
   "metadata": {
    "scrolled": true
   },
   "outputs": [
    {
     "data": {
      "image/png": "[encoded data removed]",
      "text/plain": [
       "<matplotlib.figure.Figure at 0x7ff045e78d30>"
      ]
     },
     "metadata": {},
     "output_type": "display_data"
    }
   ],
   "source": [
    "import networkx as nx\n",
    "\n",
    "nx.draw_networkx(nx.Graph(graph))"
   ]
  }
 ],
 "metadata": {
  "kernelspec": {
   "display_name": "Python 3",
   "language": "python",
   "name": "python3"
  },
  "language_info": {
   "codemirror_mode": {
    "name": "ipython",
    "version": 3
   },
   "file_extension": ".py",
   "mimetype": "text/x-python",
   "name": "python",
   "nbconvert_exporter": "python",
   "pygments_lexer": "ipython3",
   "version": "3.5.3"
  }
 },
 "nbformat": 4,
 "nbformat_minor": 2
}
